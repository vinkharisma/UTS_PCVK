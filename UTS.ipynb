{
  "nbformat": 4,
  "nbformat_minor": 0,
  "metadata": {
    "colab": {
      "provenance": [],
      "toc_visible": true,
      "authorship_tag": "ABX9TyMhCIbNBSbvB2TY+/39Ttox",
      "include_colab_link": true
    },
    "kernelspec": {
      "name": "python3",
      "display_name": "Python 3"
    },
    "language_info": {
      "name": "python"
    }
  },
  "cells": [
    {
      "cell_type": "markdown",
      "metadata": {
        "id": "view-in-github",
        "colab_type": "text"
      },
      "source": [
        "<a href=\"https://colab.research.google.com/github/vinkharisma/UTS_PCVK/blob/main/UTS.ipynb\" target=\"_parent\"><img src=\"https://colab.research.google.com/assets/colab-badge.svg\" alt=\"Open In Colab\"/></a>"
      ]
    },
    {
      "cell_type": "markdown",
      "source": [
        "# Nama Anggota Kelompok : \n",
        "1. Khofifah Amanda\n",
        "2. Vinka Kharisma Adzania \n"
      ],
      "metadata": {
        "id": "in6FZJS8R4Hr"
      }
    },
    {
      "cell_type": "markdown",
      "source": [
        "# Pengantar Pengolahan Citra dan Visi Komputer"
      ],
      "metadata": {
        "id": "BUgB5SiAUELt"
      }
    },
    {
      "cell_type": "code",
      "source": [],
      "metadata": {
        "id": "pJGIwQPCUEXt"
      },
      "execution_count": null,
      "outputs": []
    },
    {
      "cell_type": "markdown",
      "source": [
        "# Numpy, OpenCV, dan Pengolahan Citra dan Visi Komputer"
      ],
      "metadata": {
        "id": "VKeb9UdAUEkM"
      }
    },
    {
      "cell_type": "code",
      "source": [],
      "metadata": {
        "id": "4hmstP3bUEuW"
      },
      "execution_count": null,
      "outputs": []
    },
    {
      "cell_type": "markdown",
      "source": [
        "# Representasi Visual dan Operasi Citra Sederhana"
      ],
      "metadata": {
        "id": "ZXuOXlw5T_OQ"
      }
    },
    {
      "cell_type": "code",
      "source": [],
      "metadata": {
        "id": "LkYwZBawT_Y9"
      },
      "execution_count": null,
      "outputs": []
    },
    {
      "cell_type": "markdown",
      "source": [
        "# Lanjutan Operasi Aritmatika dan Logika- Gamma Correction"
      ],
      "metadata": {
        "id": "My090TH-T3gh"
      }
    },
    {
      "cell_type": "code",
      "source": [],
      "metadata": {
        "id": "6vO0kxg9T-nx"
      },
      "execution_count": null,
      "outputs": []
    },
    {
      "cell_type": "markdown",
      "source": [
        "# Histogram, Histogram Equalization, Dithering"
      ],
      "metadata": {
        "id": "Fh6d61UkTgEo"
      }
    },
    {
      "cell_type": "code",
      "source": [],
      "metadata": {
        "id": "DpS15eAIT2kX"
      },
      "execution_count": null,
      "outputs": []
    },
    {
      "cell_type": "markdown",
      "source": [
        "# Filter Spasial"
      ],
      "metadata": {
        "id": "szhvyhtaTg4m"
      }
    },
    {
      "cell_type": "code",
      "execution_count": null,
      "metadata": {
        "id": "VQ7OtdpHPfbf"
      },
      "outputs": [],
      "source": []
    }
  ]
}